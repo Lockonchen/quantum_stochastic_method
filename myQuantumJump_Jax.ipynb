{
  "cells": [
    {
      "cell_type": "code",
      "source": [
        "!pip install qutip\n",
        "!pip install qiskit\n",
        "!pip install qiskit_dynamics\n",
        "!pip install jax"
      ],
      "metadata": {
        "id": "vUf-CL6NQh66"
      },
      "id": "vUf-CL6NQh66",
      "execution_count": null,
      "outputs": []
    },
    {
      "cell_type": "code",
      "execution_count": 2,
      "id": "6316cc66-9ef0-4aec-ae6a-20a2c3269df5",
      "metadata": {
        "id": "6316cc66-9ef0-4aec-ae6a-20a2c3269df5"
      },
      "outputs": [],
      "source": [
        "import jax\n",
        "import jax.numpy as jnp\n",
        "import jax.scipy as jcp\n",
        "from jax import jit\n",
        "import numpy as np\n",
        "import time\n",
        "import matplotlib.pyplot as plt\n",
        "from qutip import *\n",
        "from qiskit.quantum_info import Operator"
      ]
    },
    {
      "cell_type": "code",
      "source": [
        "jax.config.update(\"jax_enable_x64\", True)\n",
        "\n",
        "# tell JAX we are using CPU if using a system without a GPU\n",
        "jax.config.update('jax_platform_name', 'cpu')\n",
        "# import Array and set default backend\n",
        "from qiskit_dynamics.array import Array\n",
        "Array.set_default_backend(\"jax\")\n",
        "\n",
        "#from jax import config\n",
        "#config.update(\"jax_disable_jit\", True)"
      ],
      "metadata": {
        "id": "zI3IR1HBTOlL"
      },
      "id": "zI3IR1HBTOlL",
      "execution_count": 3,
      "outputs": []
    },
    {
      "cell_type": "markdown",
      "source": [
        "## Poor Implementation of Quantum Jump (Time-independent)"
      ],
      "metadata": {
        "id": "aLBfJXTdcWsF"
      },
      "id": "aLBfJXTdcWsF"
    },
    {
      "cell_type": "code",
      "execution_count": 5,
      "id": "54887fe1-a2e6-40db-b1ea-c1cbd25b3f45",
      "metadata": {
        "id": "54887fe1-a2e6-40db-b1ea-c1cbd25b3f45"
      },
      "outputs": [],
      "source": [
        "wr = 6\n",
        "wd = wr\n",
        "Nr = 15\n",
        "a = destroy(Nr)\n",
        "\n",
        "sz = (a.dag()*a).full()\n",
        "sx = a.full()\n",
        "psi0 = coherent(Nr, 0.2).full().reshape(Nr,)\n",
        "H = -wr/2*sz\n",
        "Ls = [np.sqrt(0.2)*sx, 0.05*sz]\n",
        "\n",
        "Heff = H - 1j/2 * sum([L.T.conjugate()@L for L in Ls]) # effective Hamiltonian"
      ]
    },
    {
      "cell_type": "code",
      "execution_count": null,
      "id": "a3bf630e-520f-4168-9d7a-db135a8ed959",
      "metadata": {
        "colab": {
          "base_uri": "https://localhost:8080/"
        },
        "id": "a3bf630e-520f-4168-9d7a-db135a8ed959",
        "outputId": "00046cce-443a-447e-b39c-708a52c51c99"
      },
      "outputs": [
        {
          "output_type": "execute_result",
          "data": {
            "text/plain": [
              "0.004185098803828963"
            ]
          },
          "metadata": {},
          "execution_count": 6
        }
      ],
      "source": [
        "dt = 2*0.2/np.linalg.norm(H, ord ='fro') # timestep\n",
        "dt"
      ]
    },
    {
      "cell_type": "code",
      "execution_count": 8,
      "id": "275d2ebc-4ea3-47e3-a427-3a5d6617cbb9",
      "metadata": {
        "id": "275d2ebc-4ea3-47e3-a427-3a5d6617cbb9"
      },
      "outputs": [],
      "source": [
        "dt = 0.05 # timestep\n",
        "m = 1000 # number of steps\n",
        "tf = dt*m # final time\n",
        "times = np.linspace(0,tf,m)\n",
        "\n",
        "## Square Pulse\n",
        "def H1_coeff(t, args):\n",
        "    T = args['T']\n",
        "    A = args['A']\n",
        "    if t>=0 and t<T:\n",
        "        pulse = A\n",
        "    else:\n",
        "        pulse = 0\n",
        "    return pulse*np.exp(-1j*wd*t)\n",
        "\n",
        "def H2_coeff(t, args):\n",
        "    T = args['T']\n",
        "    A = args['A']\n",
        "    if t>=0 and t<T:\n",
        "        pulse = A\n",
        "    else:\n",
        "        pulse = 0\n",
        "    return pulse*np.exp(1j*wd*t)\n",
        "\n",
        "## Pulse parameters\n",
        "args = {'A': 2, 'T':20}                                      # Square Pulse"
      ]
    },
    {
      "cell_type": "code",
      "execution_count": 36,
      "id": "921b8a65-1bd8-4974-a6ae-b2b9a19a1018",
      "metadata": {
        "id": "921b8a65-1bd8-4974-a6ae-b2b9a19a1018"
      },
      "outputs": [],
      "source": [
        "def RK4_evo(dt, Heff, size):\n",
        "    '''RK4 evolution for time-independent Hamiltonian'''\n",
        "    k1 = -1j*Heff\n",
        "    k2 = -1j*Heff*(1+k1/2*dt)\n",
        "    k3 = -1j*Heff*(1+k2/2*dt)\n",
        "    k4 = -1j*Heff*(1+k3*dt)\n",
        "    return np.eye(size)+dt/6*(k1+2*k2+2*k3+k4)\n",
        "\n",
        "def single_traj(psi0, H, times, c_ops, args):\n",
        "    t = 0\n",
        "    waves = [psi0]\n",
        "    for t in times[1:]:\n",
        "        # generate a random number in (0,1]\n",
        "        u = np.random.random()\n",
        "        # array of jump probabilities\n",
        "        dps = [np.real(dt * (waves[-1].T.conjugate()@(L.T.conjugate()@L)@waves[-1])) for L in c_ops]\n",
        "        # renormalisation factor 1-dP\n",
        "        dP = np.sum(dps)\n",
        "\n",
        "        # test\n",
        "        if dP <= u:\n",
        "            temp = RK4_evo(dt, H, len(psi0))@(waves[-1])\n",
        "            #temp = (np.eye(len(psi0))-1j*H*dt)@(waves[-1])\n",
        "            #temp = sp.linalg.expm(-1j*H*dt)@(waves[-1])\n",
        "        else:\n",
        "            # new random number\n",
        "            u = np.random.random()\n",
        "            Q = np.cumsum(dps)/dP\n",
        "            # pick the jump that has occurred\n",
        "            k = np.searchsorted(Q, u, side = 'left')\n",
        "            temp = c_ops[k]@waves[-1]\n",
        "        waves.append(temp/np.linalg.norm(temp))\n",
        "    return waves, np.array([(wave.T.conjugate()@sz@wave) for wave in waves])\n",
        "\n",
        "from tqdm import tqdm\n",
        "\n",
        "def my_mcsolve(psi0, H, times, c_ops=[], e_ops=[], args={}, ntraj=150):\n",
        "    '''Calculate the stochastic dyanmics by MCWF method, using the inaccurate Euler method'''\n",
        "\n",
        "    mean = np.zeros(m, dtype = complex) #array for the results\n",
        "    all_results = []\n",
        "    for count in tqdm(range(ntraj)):\n",
        "        result, _ = single_traj(psi0, H, times, np.array(c_ops), args)\n",
        "        all_results.append(result)\n",
        "        mean += _\n",
        "    mean = np.array(mean)/ntraj\n",
        "    return mean, all_results"
      ]
    },
    {
      "cell_type": "code",
      "execution_count": 37,
      "id": "6054b207-6d69-48f3-8ac5-c432a45d50de",
      "metadata": {
        "colab": {
          "base_uri": "https://localhost:8080/",
          "height": 447
        },
        "id": "6054b207-6d69-48f3-8ac5-c432a45d50de",
        "outputId": "42587182-ca7f-4003-e462-0de7d7d32ed0"
      },
      "outputs": [
        {
          "output_type": "stream",
          "name": "stderr",
          "text": [
            "100%|██████████| 150/150 [00:26<00:00,  5.64it/s]\n"
          ]
        },
        {
          "output_type": "display_data",
          "data": {
            "text/plain": [
              "<Figure size 640x480 with 1 Axes>"
            ],
            "image/png": "[encoded data removed]"
          },
          "metadata": {}
        }
      ],
      "source": [
        "mean, all_results = my_mcsolve(psi0, Heff, times, c_ops=Ls)\n",
        "fig, ax = plt.subplots()\n",
        "ax.plot(times, np.real(mean), 'b-', alpha = 0.5, label = 'w/ mcwf');\n",
        "ax.legend();"
      ]
    },
    {
      "cell_type": "markdown",
      "id": "d9e5b79c-473a-49f7-ade4-e48adf46ff0c",
      "metadata": {
        "id": "d9e5b79c-473a-49f7-ade4-e48adf46ff0c"
      },
      "source": [
        "#### Time Cost\n",
        "* ODE solver\n",
        "* for loop\n",
        "* list index\n",
        "* list sum\n"
      ]
    },
    {
      "cell_type": "markdown",
      "id": "6f45f9fe-6b3a-4fa4-a742-7e85329adf23",
      "metadata": {
        "id": "6f45f9fe-6b3a-4fa4-a742-7e85329adf23"
      },
      "source": [
        "## Poor Implementation of Quantum Jump (Time-dependent)"
      ]
    },
    {
      "cell_type": "code",
      "source": [
        "def RK4_evo2(dt, Ht, Ht1, Ht2, size):\n",
        "    '''RK4 evolution for time-independent Hamiltonian'''\n",
        "    k1 = -1j*Ht\n",
        "    k2 = -1j*(Ht1)*(1+k1/2*dt)\n",
        "    k3 = -1j*(Ht1)*(1+k2/2*dt)\n",
        "    k4 = -1j*Ht2*(1+k3*dt)\n",
        "    return np.eye(size)+dt/6*(k1+2*k2+2*k3+k4)\n",
        "\n",
        "def single_traj2(psi0, H, times, c_ops, args):\n",
        "    t = 0\n",
        "    waves = [psi0]\n",
        "    for t in times[1:]:\n",
        "        # generate a random number in (0,1]\n",
        "        u = np.random.random()\n",
        "        # array of jump probabilities\n",
        "        dps = [np.real(dt * (waves[-1].T.conjugate()@(L.T.conjugate()@L)@waves[-1])) for L in c_ops]\n",
        "        # renormalisation factor 1-dP\n",
        "        dP = np.sum(dps)\n",
        "\n",
        "        # test\n",
        "        if dP <= u:\n",
        "            Ht = H+H1_coeff(t, args)*sx+H2_coeff(t, args)*sx.T\n",
        "            Ht1 = H+H1_coeff(t+dt/2, args)*sx+H2_coeff(t+dt/2, args)*sx.T\n",
        "            Ht2 = H+H1_coeff(t+dt, args)*sx+H2_coeff(t+dt, args)*sx.T\n",
        "\n",
        "            temp = RK4_evo2(dt, Ht, Ht1, Ht2, len(psi0))@(waves[-1])\n",
        "            #temp = (np.eye(len(psi0))-1j*H*dt)@(waves[-1])\n",
        "            #temp = sp.linalg.expm(-1j*H*dt)@(waves[-1])\n",
        "        else:\n",
        "            # new random number\n",
        "            u = np.random.random()\n",
        "            Q = np.cumsum(dps)/dP\n",
        "            # pick the jump that has occurred\n",
        "            k = np.searchsorted(Q, u, side = 'left')\n",
        "            temp = c_ops[k]@waves[-1]\n",
        "        waves.append(temp/np.linalg.norm(temp))\n",
        "    return np.array([(wave.T.conjugate()@sz@wave) for wave in waves])\n",
        "\n",
        "def my_mcsolve2(psi0, H, times, c_ops=[], e_ops=[], args={}, ntraj=150):\n",
        "    '''Calculate the stochastic dyanmics by MCWF method, using the inaccurate Euler method'''\n",
        "\n",
        "    mean = np.zeros(m, dtype = complex) #array for the results\n",
        "\n",
        "    for count in tqdm(range(ntraj)):\n",
        "        mean += single_traj2(psi0, H, times, np.array(c_ops), args)\n",
        "    mean = np.array(mean)/ntraj\n",
        "    return mean"
      ],
      "metadata": {
        "id": "n33DRMb4cA-t"
      },
      "id": "n33DRMb4cA-t",
      "execution_count": null,
      "outputs": []
    },
    {
      "cell_type": "code",
      "source": [
        "dt = 0.001 # timestep\n",
        "m = int(50/dt) # number of steps\n",
        "tf = dt*m # final time\n",
        "times = np.linspace(0,tf,m)\n",
        "\n",
        "mean = my_mcsolve2(psi0, Heff, times, c_ops=Ls, args=args)\n",
        "fig, ax = plt.subplots()\n",
        "ax.plot(times, np.real(mean), 'b-', alpha = 0.5, label = 'w/ mcwf');\n",
        "ax.legend();"
      ],
      "metadata": {
        "id": "zLtw60KocBz2"
      },
      "id": "zLtw60KocBz2",
      "execution_count": null,
      "outputs": []
    },
    {
      "cell_type": "code",
      "source": [],
      "metadata": {
        "id": "wHjW8dzEceXZ"
      },
      "id": "wHjW8dzEceXZ",
      "execution_count": null,
      "outputs": []
    },
    {
      "cell_type": "markdown",
      "id": "ad7695c8-5b1b-4f12-83ca-d8e5a388bb15",
      "metadata": {
        "id": "ad7695c8-5b1b-4f12-83ca-d8e5a388bb15"
      },
      "source": [
        "## JAX accelerated version (Fork Qiskit_dynamics)"
      ]
    },
    {
      "cell_type": "code",
      "source": [
        "from typing import Callable, Optional, Union, Tuple, List\n",
        "import numpy as np\n",
        "from numpy import ndarray\n",
        "from qiskit_dynamics.array import Array, wrap\n",
        "from qiskit_dynamics.type_utils import to_array\n",
        "import jax.numpy as jnp\n",
        "from jax.lax import scan, cond, fori_loop\n",
        "from jax import random\n",
        "from scipy.integrate._ivp.ivp import OdeResult\n",
        "\n",
        "from qiskit_dynamics.dispatch import requires_backend\n",
        "\n",
        "\n",
        "class myLindbladModel():\n",
        "    r'''Hello'''\n",
        "\n",
        "    def __init__(\n",
        "        self,\n",
        "        static_Hamiltonian: Union[Array, ndarray],\n",
        "        Hamiltonian_operators: Union[Array, ndarray],\n",
        "        dissipators: Union[List, Array, ndarray],\n",
        "        signal_funcs: Union[Callable, None],\n",
        "        signal_args: Union[List[Callable], None]\n",
        "    ):\n",
        "        r'''static_Hamiltonian: Union\n",
        "        '''\n",
        "        self.static_Hamiltonian = static_Hamiltonian\n",
        "        self.Hamiltonian_operators = Hamiltonian_operators\n",
        "        self.dissipators = dissipators\n",
        "        self.signal_funcs = signal_funcs\n",
        "        self.signal_args = signal_args\n",
        "        self._static_Hamiltonian = jnp.array(static_Hamiltonian)\n",
        "\n",
        "        if Hamiltonian_operators is not None:\n",
        "            self._Hamiltonian_operators = [jnp.array(H) for H in Hamiltonian_operators]\n",
        "        if dissipators is not None:\n",
        "            self._dissipators = jnp.array(dissipators)\n",
        "            self._conditional_Hamiltonian = jnp.array(static_Hamiltonian - 1j/2*sum([dagger(L)@L for L in dissipators]))\n",
        "        else:\n",
        "            self._conditional_Hamiltonian = static_Hamiltonian\n",
        "\n",
        "        self._ham_sig_vals = None\n",
        "        self.dtype = None\n",
        "\n",
        "    @property\n",
        "    def _conditionial_Hamiltonian(self):\n",
        "        return self.static_Hamiltonian- 1j/2 * sum([L.T.conjugate()@L for L in self.dissipators])\n",
        "\n",
        "    def __call__(self, t, y):\n",
        "        return self.evaluate_rhs(t, y)\n",
        "\n",
        "    def _signal_val(self, t):\n",
        "        return jnp.array([func(t, self.signal_args) for func in self.signal_funcs])\n",
        "\n",
        "    def evaluate_rhs(self, t, y):\n",
        "        r'''Calculate the -i H(t)\\psi(t)'''\n",
        "        if self.signal_funcs == None:\n",
        "            return -1j*self._conditional_Hamiltonian@y\n",
        "        else:\n",
        "            sig_vals = self._signal_val(t)\n",
        "            drive_Hamls = jnp.tensordot(sig_vals, np.array(self.Hamiltonian_operators), axes=1)\n",
        "            return -1j*(self._conditional_Hamiltonian + drive_Hamls)@y\n",
        "\n",
        "##############################         Helper Functions       ################################\n",
        "def MC_sampling(dissipators, y, h):\n",
        "    dps = [jnp.real(h * (dagger(y) @ dagger(L) @ L @ y)) for L in dissipators]\n",
        "    dP = sum(dps)\n",
        "\n",
        "    return dP, dps\n",
        "\n",
        "def collapse_which(dissipators, dP, dps):\n",
        "    u = np.random.random()\n",
        "    Q = jnp.cumsum(jnp.array(dps))/dP\n",
        "    # pick the jump that has occurred\n",
        "    k = np.searchsorted(Q, u, side = 'left')\n",
        "\n",
        "    idx = jnp.zeros(len(dissipators))\n",
        "    idx.at[k].set(1)\n",
        "    L = jnp.tensordot(idx, dissipators, axes=1)\n",
        "    return k, L\n",
        "\n",
        "def dagger(x):\n",
        "    return jnp.conjugate(jnp.transpose(x))\n",
        "\n",
        "dt = 0.01 # timestep\n",
        "m = int(50/dt) # number of steps\n",
        "tf = dt*m # final time\n",
        "times = jnp.linspace(0,tf,m)\n",
        "\n",
        "args = {'A': 2, 'T':20} # Square Pulse\n",
        "\n",
        "## Square Pulse\n",
        "def H1_coeff_jax(t, args):\n",
        "    T = args['T']\n",
        "    A = args['A']\n",
        "    def Constant(A):\n",
        "        return A\n",
        "    def Zero(A):\n",
        "        return 0\n",
        "\n",
        "    pulse = cond(t>=0, lambda A: Constant(A), Zero, A)\n",
        "    return pulse*jnp.exp(-1j*wd*t)\n",
        "\n",
        "def H2_coeff_jax(t, args):\n",
        "    T = args['T']\n",
        "    A = args['A']\n",
        "    def Constant(A):\n",
        "        return A\n",
        "    def Zero(A):\n",
        "        return 0\n",
        "\n",
        "    pulse = cond(t>=0, lambda A: Constant(A), Zero, A)\n",
        "    return pulse*jnp.exp(1j*wd*t)\n",
        "###############################################################################################\n",
        "\n",
        "def _single_traj_jax(\n",
        "    take_step: Callable,\n",
        "    jump: Callable,\n",
        "    rhs_func: Callable,\n",
        "    dissipators: Union[Array, ndarray],\n",
        "    t_list: Union[Array, ndarray],\n",
        "    y0: Union[Array, ndarray],\n",
        "    h: Union[float, Array],\n",
        "):\n",
        "    \"\"\"This function is the jax control-flow version of\n",
        "    :meth:`fixed_step_solver_template`. See the documentation of :meth:`fixed_step_solver_template`\n",
        "    for details.\n",
        "\n",
        "    Args:\n",
        "    Returns:\n",
        "        OdeResult: Results object.\n",
        "    \"\"\"\n",
        "    y0 = Array(y0).data\n",
        "    h_list = Array([h]*len(t_list)).data\n",
        "\n",
        "    # interval integrator set up for jax.lax.scan\n",
        "    def scan_interval_integrate(carry, x):\n",
        "        current_t, h = x\n",
        "        current_y = carry\n",
        "\n",
        "        u = np.random.random()\n",
        "        dP, dps = MC_sampling(dissipators, current_y, h)\n",
        "\n",
        "        temp = cond(dP<=u, lambda y: take_step(rhs_func, current_t, y, h), lambda y: jump(dP, dps, y), current_y)\n",
        "        norm = jnp.linalg.norm(temp)\n",
        "\n",
        "        next_y = cond(norm==0, lambda y: y, lambda y: y/norm, temp)\n",
        "\n",
        "        next_t = current_t + h\n",
        "\n",
        "        return next_y, next_y\n",
        "\n",
        "    ys = scan(\n",
        "        scan_interval_integrate,\n",
        "        init=y0,\n",
        "        xs=(jnp.array(t_list[:-1]), jnp.array(h_list[:-1])),\n",
        "    )[1]\n",
        "\n",
        "    ys = Array(jnp.append(jnp.expand_dims(y0, axis=0), ys, axis=0), backend=\"jax\").data\n",
        "\n",
        "    results = t_list, ys[:-1] # OdeResult(t=t_list[:-1], y=ys[:-1]) #\n",
        "\n",
        "    return results\n",
        "\n",
        "@requires_backend(\"jax\")\n",
        "def jax_mcwf_solver(\n",
        "    rhs: Callable,\n",
        "    dissipators: Union[Array, ndarray],\n",
        "    t_list: Union[Array, ndarray],\n",
        "    y0: Union[Array, ndarray],\n",
        "    dt: float,\n",
        "    t_eval: Optional[Union[Tuple, List, Array]] = None,\n",
        "):\n",
        "    \"\"\"JAX version of RK4_solver.\n",
        "\n",
        "    Args:\n",
        "        rhs: Callable, either a generator rhs\n",
        "        t_span: Interval to solve over.\n",
        "        y0: Initial state.\n",
        "        max_dt: Maximum step size.\n",
        "        t_eval: Optional list of time points at which to return the solution.\n",
        "\n",
        "    Returns:\n",
        "        OdeResult: Results object.\n",
        "    \"\"\"\n",
        "    div6 = 1.0 / 6\n",
        "\n",
        "    def take_step(rhs_func, t, y, h):\n",
        "\n",
        "        h2 = 0.5 * h\n",
        "        t_plus_h2 = t + h2\n",
        "\n",
        "        k1 = rhs_func(t, y)\n",
        "        k2 = rhs_func(t_plus_h2, y + h2 * k1)\n",
        "        k3 = rhs_func(t_plus_h2, y + h2 * k2)\n",
        "        k4 = rhs_func(t + h, y + h * k3)\n",
        "\n",
        "        return y + div6 * h * (k1 + 2 * k2 + 2 * k3 + k4)\n",
        "\n",
        "    def jump(dP, dps, y):\n",
        "        k, L = collapse_which(dissipators, dP, dps)\n",
        "        return L@y\n",
        "\n",
        "    def wrapped_rhs_func(*args):\n",
        "        return Array(rhs(*args), backend=\"jax\").data\n",
        "\n",
        "    return _single_traj_jax(\n",
        "        take_step, jump, rhs_func=wrapped_rhs_func, dissipators=dissipators, t_list=t_list, y0=y0, h=dt,\n",
        "    )\n",
        "\n",
        "def mcwf_solve(\n",
        "    rhs: Callable,\n",
        "    model: myLindbladModel,\n",
        "    t_list: Array,\n",
        "    y0: Array,\n",
        "    dt: float,\n",
        "    num_traj: int,\n",
        "    t_eval: Optional[Union[Tuple, List, Array]] = None,\n",
        "):\n",
        "    r''' jit-complied '''\n",
        "\n",
        "    y0 = Array(y0)\n",
        "\n",
        "    def sample_a_traj(t_list, y0, dt):\n",
        "        _, result_y = jax_mcwf_solver(rhs=model, dissipators=model._dissipators, t_list=t_list, y0=y0, dt=dt)\n",
        "        return Array(result_y).data\n",
        "\n",
        "    jit_sample_a_traj = jit(sample_a_traj)\n",
        "\n",
        "    def get_ave_state(A):\n",
        "        all_trajs = Array(A)\n",
        "        ave_trajs = Array(np.sum(A, axis=0)/num_traj)\n",
        "\n",
        "        return ave_trajs, all_trajs\n",
        "\n",
        "    all_results = []\n",
        "\n",
        "    def sample_all_trajs(i, val):\n",
        "        result_y = jit_sample_a_traj(t_list, y0, dt)\n",
        "        all_results.append(result_y)\n",
        "\n",
        "    #fori_loop(0, num_traj, sample_all_trajs, 0)\n",
        "\n",
        "    for i in range(num_traj):\n",
        "        result_y = jit_sample_a_traj(t_list=Array(t_list).data, y0=Array(y0).data, dt=dt)\n",
        "        all_results.append(result_y)\n",
        "\n",
        "    ave_trajs, all_trajs = get_ave_state(all_results)\n",
        "\n",
        "    return OdeResult(t=t_list[:-1], y=Array(ave_trajs, backend=\"jax\", dtype=complex)), all_trajs"
      ],
      "metadata": {
        "id": "7F8wxczQUaE4"
      },
      "id": "7F8wxczQUaE4",
      "execution_count": 58,
      "outputs": []
    },
    {
      "cell_type": "code",
      "source": [
        "from qutip import *\n",
        "\n",
        "wr = 6\n",
        "wd = wr\n",
        "Nr = 15\n",
        "a = destroy(Nr)\n",
        "\n",
        "sz = (a.dag()*a).full()\n",
        "sx = a.full()\n",
        "psi0 = coherent(Nr, 0.2).full().reshape(Nr,)\n",
        "H = -wr/2*sz\n",
        "Ls = [np.sqrt(0.2)*sx, 0.05*sz]\n",
        "\n",
        "model = myLindbladModel(\n",
        "        static_Hamiltonian = -wr/2*sz,\n",
        "        Hamiltonian_operators = [sx, sx.T.conjugate()],\n",
        "        dissipators = [np.sqrt(0.2)*sx, 0.05*sz],\n",
        "        signal_funcs = None,#[H1_coeff_jax, H2_coeff_jax],\n",
        "        signal_args = args,\n",
        "    )"
      ],
      "metadata": {
        "id": "7KpRC-NslYlA"
      },
      "id": "7KpRC-NslYlA",
      "execution_count": 59,
      "outputs": []
    },
    {
      "cell_type": "markdown",
      "source": [
        "## JAX - Time-independent"
      ],
      "metadata": {
        "id": "t8urmRoMY3p8"
      },
      "id": "t8urmRoMY3p8"
    },
    {
      "cell_type": "code",
      "source": [
        "result, all_trajs = mcwf_solve(rhs=model, model=model, t_list=times, y0=psi0, dt=dt, num_traj=150)"
      ],
      "metadata": {
        "id": "aqv8dKM2nwWM"
      },
      "id": "aqv8dKM2nwWM",
      "execution_count": 61,
      "outputs": []
    },
    {
      "cell_type": "code",
      "source": [
        "mean = [np.conjugate(psi)@sz@psi  for psi in result.y]\n",
        "\n",
        "fig, ax = plt.subplots()\n",
        "ax.plot(result.t, np.real(mean), 'b-', alpha = 0.5, label = 'w/ mcwf');\n",
        "ax.legend();"
      ],
      "metadata": {
        "colab": {
          "base_uri": "https://localhost:8080/",
          "height": 430
        },
        "id": "zdbz_iAErqFx",
        "outputId": "001cfe33-a06f-4bd1-ce8b-cb424c1ee3a8"
      },
      "id": "zdbz_iAErqFx",
      "execution_count": 62,
      "outputs": [
        {
          "output_type": "display_data",
          "data": {
            "text/plain": [
              "<Figure size 640x480 with 1 Axes>"
            ],
            "image/png": "[encoded data removed]"
          },
          "metadata": {}
        }
      ]
    },
    {
      "cell_type": "markdown",
      "source": [
        "## JAX - Time-dependent"
      ],
      "metadata": {
        "id": "tNR4_WW_Y7WF"
      },
      "id": "tNR4_WW_Y7WF"
    },
    {
      "cell_type": "code",
      "source": [
        "model2 = myLindbladModel(\n",
        "        static_Hamiltonian = -wr/2*sz,\n",
        "        Hamiltonian_operators = [sx, sx.T.conjugate()],\n",
        "        dissipators = [np.sqrt(0.2)*sx, 0.05*sz],\n",
        "        signal_funcs = [H1_coeff_jax, H2_coeff_jax],\n",
        "        signal_args = args,\n",
        "    )\n",
        "\n",
        "result2, all_trajs2 = mcwf_solve(rhs=model2, model=model2, t_list=times, y0=psi0, dt=dt, num_traj=150)"
      ],
      "metadata": {
        "id": "eUML-cXyY7Ie"
      },
      "id": "eUML-cXyY7Ie",
      "execution_count": 63,
      "outputs": []
    },
    {
      "cell_type": "code",
      "execution_count": 64,
      "id": "07903fc4-f4d0-489f-b9ac-16638f0acb3a",
      "metadata": {
        "id": "07903fc4-f4d0-489f-b9ac-16638f0acb3a",
        "colab": {
          "base_uri": "https://localhost:8080/",
          "height": 430
        },
        "outputId": "fdd42a8e-5a42-42cb-fd2e-a5cd53a8f08e"
      },
      "outputs": [
        {
          "output_type": "display_data",
          "data": {
            "text/plain": [
              "<Figure size 640x480 with 1 Axes>"
            ],
            "image/png": "[encoded data removed]"
          },
          "metadata": {}
        }
      ],
      "source": [
        "mean2 = [np.conjugate(psi)@sz@psi  for psi in result2.y]\n",
        "\n",
        "fig, ax = plt.subplots()\n",
        "ax.plot(result2.t, np.real(mean2), 'b-', alpha = 0.5, label = 'w/ mcwf');\n",
        "ax.legend();"
      ]
    },
    {
      "cell_type": "markdown",
      "id": "0263b902-53db-4b3f-8de4-9eb9139b69e9",
      "metadata": {
        "id": "0263b902-53db-4b3f-8de4-9eb9139b69e9"
      },
      "source": [
        "## QuTip Benchmaraking (Time-independent)"
      ]
    },
    {
      "cell_type": "code",
      "execution_count": 36,
      "id": "4539d4aa-0372-4206-be41-b619203a7dd3",
      "metadata": {
        "tags": [],
        "id": "4539d4aa-0372-4206-be41-b619203a7dd3",
        "outputId": "984fb6f9-330d-413b-aea9-48b6a5eaf4e0",
        "colab": {
          "base_uri": "https://localhost:8080/",
          "height": 621
        }
      },
      "outputs": [
        {
          "output_type": "stream",
          "name": "stdout",
          "text": [
            "10.0%. Run time:   3.61s. Est. time left: 00:00:00:32\n",
            "20.0%. Run time:   6.91s. Est. time left: 00:00:00:27\n",
            "30.0%. Run time:   9.97s. Est. time left: 00:00:00:23\n",
            "40.0%. Run time:  12.00s. Est. time left: 00:00:00:18\n",
            "50.0%. Run time:  13.78s. Est. time left: 00:00:00:13\n",
            "60.0%. Run time:  15.60s. Est. time left: 00:00:00:10\n",
            "70.0%. Run time:  17.43s. Est. time left: 00:00:00:07\n",
            "80.0%. Run time:  20.01s. Est. time left: 00:00:00:05\n",
            "90.0%. Run time:  23.08s. Est. time left: 00:00:00:02\n",
            "100.0%. Run time:  25.08s. Est. time left: 00:00:00:00\n",
            "Total run time:  25.12s\n"
          ]
        },
        {
          "output_type": "display_data",
          "data": {
            "text/plain": [
              "<Figure size 640x480 with 1 Axes>"
            ],
            "image/png": "[encoded data removed]"
          },
          "metadata": {}
        }
      ],
      "source": [
        "a = destroy(Nr)\n",
        "\n",
        "sz = (a.dag()*a)\n",
        "psi0 = coherent(Nr, 0.2)\n",
        "H0 = -wr/2*sz\n",
        "c_ops = [np.sqrt(0.2)*a, 0.05*sz]\n",
        "e_ops = [a.dag()*a]\n",
        "\n",
        "\n",
        "times = np.linspace(0, 50, 5000)\n",
        "\n",
        "mcResult = mcsolve(H0, psi0, times,\n",
        "                    c_ops=c_ops,\n",
        "                    e_ops=e_ops,\n",
        "                    progress_bar=True,\n",
        "                    ntraj=150,\n",
        "                    options=Options(rhs_with_state=True, store_states=True))#, atol=10e-12, rtol=1e-8))\n",
        "nc = mcResult.expect[0]\n",
        "\n",
        "fig, ax = plt.subplots()\n",
        "ax.plot(times, nc, 'b-', alpha = 0.5, label = 'w/ mcwf');\n",
        "ax.legend();"
      ]
    },
    {
      "cell_type": "code",
      "execution_count": null,
      "id": "bdc074cc-b2b2-4b3f-99ef-21496398adb6",
      "metadata": {
        "id": "bdc074cc-b2b2-4b3f-99ef-21496398adb6"
      },
      "outputs": [],
      "source": []
    },
    {
      "cell_type": "code",
      "execution_count": null,
      "id": "050a1fdb-e072-4382-af5d-a8e1a067986b",
      "metadata": {
        "id": "050a1fdb-e072-4382-af5d-a8e1a067986b"
      },
      "outputs": [],
      "source": []
    },
    {
      "cell_type": "markdown",
      "id": "537bb1a7-d4e7-48a2-b322-ecca9d1f881a",
      "metadata": {
        "id": "537bb1a7-d4e7-48a2-b322-ecca9d1f881a"
      },
      "source": [
        "## QuTip Benchmarking (Time-dependent)"
      ]
    },
    {
      "cell_type": "code",
      "execution_count": 37,
      "id": "9bdba799-2c6a-4c97-9abb-d276874dc9f6",
      "metadata": {
        "id": "9bdba799-2c6a-4c97-9abb-d276874dc9f6",
        "outputId": "2bae1962-ce8b-43d6-c3e1-516332611e65",
        "colab": {
          "base_uri": "https://localhost:8080/",
          "height": 621
        }
      },
      "outputs": [
        {
          "output_type": "stream",
          "name": "stdout",
          "text": [
            "10.0%. Run time:   5.37s. Est. time left: 00:00:00:48\n",
            "20.0%. Run time:  11.50s. Est. time left: 00:00:00:46\n",
            "30.0%. Run time:  17.84s. Est. time left: 00:00:00:41\n",
            "40.0%. Run time:  23.32s. Est. time left: 00:00:00:34\n",
            "50.0%. Run time:  31.17s. Est. time left: 00:00:00:31\n",
            "60.0%. Run time:  36.49s. Est. time left: 00:00:00:24\n",
            "70.0%. Run time:  42.36s. Est. time left: 00:00:00:18\n",
            "80.0%. Run time:  49.05s. Est. time left: 00:00:00:12\n",
            "90.0%. Run time:  54.04s. Est. time left: 00:00:00:06\n",
            "100.0%. Run time:  61.38s. Est. time left: 00:00:00:00\n",
            "Total run time:  61.48s\n"
          ]
        },
        {
          "output_type": "display_data",
          "data": {
            "text/plain": [
              "<Figure size 640x480 with 1 Axes>"
            ],
            "image/png": "[encoded data removed]"
          },
          "metadata": {}
        }
      ],
      "source": [
        "H = [H0, [a,  H1_coeff], [a.dag(), H2_coeff]]\n",
        "\n",
        "mcResult = mcsolve(H, psi0, times,\n",
        "                    c_ops=c_ops,\n",
        "                    e_ops=e_ops,\n",
        "                    args=args,\n",
        "                    ntraj=150,\n",
        "                    progress_bar=True,\n",
        "                    options=Options(rhs_with_state=True, store_states=True))#, atol=10e-12, rtol=1e-8))\n",
        "nc = mcResult.expect[0]\n",
        "\n",
        "fig, ax = plt.subplots()\n",
        "ax.plot(times, nc, 'b-', alpha = 0.5, label = 'w/ mcwf')\n",
        "ax.legend();"
      ]
    },
    {
      "cell_type": "code",
      "execution_count": null,
      "id": "2374d4dc-84ae-46ce-8378-969f201f47ee",
      "metadata": {
        "id": "2374d4dc-84ae-46ce-8378-969f201f47ee"
      },
      "outputs": [],
      "source": []
    },
    {
      "cell_type": "code",
      "execution_count": null,
      "id": "ef75a07f-6d43-4464-83ed-233dfa0e6921",
      "metadata": {
        "id": "ef75a07f-6d43-4464-83ed-233dfa0e6921"
      },
      "outputs": [],
      "source": []
    },
    {
      "cell_type": "markdown",
      "id": "4eba404e-6095-4034-8c89-4b4612cfa70a",
      "metadata": {
        "id": "4eba404e-6095-4034-8c89-4b4612cfa70a"
      },
      "source": [
        "### Trial: Tensor Contraction"
      ]
    },
    {
      "cell_type": "code",
      "execution_count": null,
      "id": "0c8cca19-6f2a-42d0-81b4-e88f06092728",
      "metadata": {
        "id": "0c8cca19-6f2a-42d0-81b4-e88f06092728"
      },
      "outputs": [],
      "source": [
        "a = np.random.random([2,2,2])"
      ]
    },
    {
      "cell_type": "code",
      "execution_count": null,
      "id": "3cce8ae7-2fc1-4b58-9a7c-e4a488cd6b8c",
      "metadata": {
        "id": "3cce8ae7-2fc1-4b58-9a7c-e4a488cd6b8c",
        "outputId": "5ec24014-7346-497d-8d11-756d28b3c08d"
      },
      "outputs": [
        {
          "data": {
            "text/plain": [
              "array([[[0.05939761, 0.31578226],\n",
              "        [0.58107567, 0.67418658]],\n",
              "\n",
              "       [[0.43874943, 0.04930135],\n",
              "        [0.42797084, 0.88057659]]])"
            ]
          },
          "execution_count": 20,
          "metadata": {},
          "output_type": "execute_result"
        }
      ],
      "source": [
        "a"
      ]
    },
    {
      "cell_type": "code",
      "execution_count": null,
      "id": "18badc46-c683-4a54-b553-e850a84f656f",
      "metadata": {
        "id": "18badc46-c683-4a54-b553-e850a84f656f"
      },
      "outputs": [],
      "source": [
        "b = np.array([1,0])"
      ]
    },
    {
      "cell_type": "code",
      "execution_count": null,
      "id": "a02dbe46-7806-4acc-a311-c9f8006a93a7",
      "metadata": {
        "id": "a02dbe46-7806-4acc-a311-c9f8006a93a7",
        "outputId": "5e0df106-fb08-4938-8756-b289d118178c"
      },
      "outputs": [
        {
          "data": {
            "text/plain": [
              "array([[0.05939761, 0.58107567],\n",
              "       [0.43874943, 0.42797084]])"
            ]
          },
          "execution_count": 27,
          "metadata": {},
          "output_type": "execute_result"
        }
      ],
      "source": [
        "(a@b)"
      ]
    },
    {
      "cell_type": "code",
      "execution_count": null,
      "id": "f266ebf0-0724-4618-98b2-ec767aa4fd51",
      "metadata": {
        "id": "f266ebf0-0724-4618-98b2-ec767aa4fd51"
      },
      "outputs": [],
      "source": []
    }
  ],
  "metadata": {
    "kernelspec": {
      "display_name": "Python 3 (ipykernel)",
      "language": "python",
      "name": "python3"
    },
    "language_info": {
      "codemirror_mode": {
        "name": "ipython",
        "version": 3
      },
      "file_extension": ".py",
      "mimetype": "text/x-python",
      "name": "python",
      "nbconvert_exporter": "python",
      "pygments_lexer": "ipython3",
      "version": "3.9.5"
    },
    "colab": {
      "provenance": []
    }
  },
  "nbformat": 4,
  "nbformat_minor": 5
}